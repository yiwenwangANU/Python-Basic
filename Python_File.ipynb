{
  "nbformat": 4,
  "nbformat_minor": 0,
  "metadata": {
    "colab": {
      "name": "Python-File.ipynb",
      "provenance": [],
      "authorship_tag": "ABX9TyOJRYWFhNRXz9QxOpptWp0H",
      "include_colab_link": true
    },
    "kernelspec": {
      "name": "python3",
      "display_name": "Python 3"
    },
    "language_info": {
      "name": "python"
    }
  },
  "cells": [
    {
      "cell_type": "markdown",
      "metadata": {
        "id": "view-in-github",
        "colab_type": "text"
      },
      "source": [
        "<a href=\"https://colab.research.google.com/github/yiwenwangANU/Python-Basic/blob/main/Python_File.ipynb\" target=\"_parent\"><img src=\"https://colab.research.google.com/assets/colab-badge.svg\" alt=\"Open In Colab\"/></a>"
      ]
    },
    {
      "cell_type": "markdown",
      "source": [
        "##Download files"
      ],
      "metadata": {
        "id": "ScJggglr4Zlq"
      }
    },
    {
      "cell_type": "code",
      "execution_count": null,
      "metadata": {
        "colab": {
          "base_uri": "https://localhost:8080/"
        },
        "id": "9JqqXXVxhe_Q",
        "outputId": "f5bb78b3-9706-4fb0-fc1f-dcd9ceb38998"
      },
      "outputs": [
        {
          "output_type": "stream",
          "name": "stdout",
          "text": [
            "--2022-06-02 11:07:17--  https://raw.githubusercontent.com/yiwenwangANU/Machine_Learning/main/titanic/train.csv\n",
            "Resolving raw.githubusercontent.com (raw.githubusercontent.com)... 185.199.108.133, 185.199.109.133, 185.199.110.133, ...\n",
            "Connecting to raw.githubusercontent.com (raw.githubusercontent.com)|185.199.108.133|:443... connected.\n",
            "HTTP request sent, awaiting response... 200 OK\n",
            "Length: 61194 (60K) [text/plain]\n",
            "Saving to: ‘train.csv.1’\n",
            "\n",
            "\rtrain.csv.1           0%[                    ]       0  --.-KB/s               \rtrain.csv.1         100%[===================>]  59.76K  --.-KB/s    in 0.01s   \n",
            "\n",
            "2022-06-02 11:07:17 (5.07 MB/s) - ‘train.csv.1’ saved [61194/61194]\n",
            "\n"
          ]
        }
      ],
      "source": [
        "!wget https://raw.githubusercontent.com/yiwenwangANU/Machine_Learning/main/titanic/train.csv"
      ]
    },
    {
      "cell_type": "code",
      "source": [
        "from urllib import request\n",
        "\n",
        "request.urlretrieve('https://raw.githubusercontent.com/yiwenwangANU/Machine_Learning/main/titanic/test.csv',\n",
        "                    'test.csv')"
      ],
      "metadata": {
        "colab": {
          "base_uri": "https://localhost:8080/"
        },
        "id": "vrHmqThL6yKw",
        "outputId": "0f355a6f-06b6-43e1-ad7c-c1732ccabbb0"
      },
      "execution_count": null,
      "outputs": [
        {
          "output_type": "execute_result",
          "data": {
            "text/plain": [
              "('test.csv', <http.client.HTTPMessage at 0x7f8a7d1a4ad0>)"
            ]
          },
          "metadata": {},
          "execution_count": 59
        }
      ]
    },
    {
      "cell_type": "markdown",
      "source": [
        "##Make dir & Remove dir"
      ],
      "metadata": {
        "id": "Fv46NoAH-1E4"
      }
    },
    {
      "cell_type": "code",
      "source": [
        "!mkdir train\n",
        "!mkdir test"
      ],
      "metadata": {
        "id": "tVkkQhEX-yQw"
      },
      "execution_count": null,
      "outputs": []
    },
    {
      "cell_type": "code",
      "source": [
        "!ls"
      ],
      "metadata": {
        "colab": {
          "base_uri": "https://localhost:8080/"
        },
        "id": "z0bPmzoT_K4C",
        "outputId": "e79175ff-b173-45f1-bef4-8616d9e65cbe"
      },
      "execution_count": null,
      "outputs": [
        {
          "output_type": "stream",
          "name": "stdout",
          "text": [
            "sample_data  test  test.csv  train  train.csv\n"
          ]
        }
      ]
    },
    {
      "cell_type": "code",
      "source": [
        "!rmdir train"
      ],
      "metadata": {
        "colab": {
          "base_uri": "https://localhost:8080/"
        },
        "id": "cpqtpmzt_NJr",
        "outputId": "64a42652-d149-49f4-9daa-4ac64cc3a33f"
      },
      "execution_count": null,
      "outputs": [
        {
          "output_type": "stream",
          "name": "stdout",
          "text": [
            "rmdir: failed to remove 'train': Directory not empty\n"
          ]
        }
      ]
    },
    {
      "cell_type": "code",
      "source": [
        "!rm -rf test"
      ],
      "metadata": {
        "id": "Ui1tsbdl_W0s"
      },
      "execution_count": null,
      "outputs": []
    },
    {
      "cell_type": "code",
      "source": [
        "!ls"
      ],
      "metadata": {
        "colab": {
          "base_uri": "https://localhost:8080/"
        },
        "id": "PHuoZcQP_ZxF",
        "outputId": "570df2c8-00cd-4b73-b9d4-edd5036c269d"
      },
      "execution_count": null,
      "outputs": [
        {
          "output_type": "stream",
          "name": "stdout",
          "text": [
            "sample_data  test  test.csv  train.csv\n"
          ]
        }
      ]
    },
    {
      "cell_type": "markdown",
      "source": [
        "##Move file, copy file"
      ],
      "metadata": {
        "id": "pwvl7_ko_d1I"
      }
    },
    {
      "cell_type": "code",
      "source": [
        "!mkdir train"
      ],
      "metadata": {
        "id": "Q4byTnU7AzNP"
      },
      "execution_count": null,
      "outputs": []
    },
    {
      "cell_type": "code",
      "source": [
        "import shutil\n",
        "\n",
        "shutil.copy2('train.csv', 'train/train.csv')"
      ],
      "metadata": {
        "colab": {
          "base_uri": "https://localhost:8080/",
          "height": 35
        },
        "id": "bJwKm1HytETj",
        "outputId": "50c1a416-4b68-4e09-dd67-f4de66133481"
      },
      "execution_count": null,
      "outputs": [
        {
          "output_type": "execute_result",
          "data": {
            "text/plain": [
              "'train/train.csv'"
            ],
            "application/vnd.google.colaboratory.intrinsic+json": {
              "type": "string"
            }
          },
          "metadata": {},
          "execution_count": 63
        }
      ]
    },
    {
      "cell_type": "code",
      "source": [
        "shutil.move('test.csv', 'test/test.csv')"
      ],
      "metadata": {
        "colab": {
          "base_uri": "https://localhost:8080/",
          "height": 35
        },
        "id": "LhI3mOHm3wdZ",
        "outputId": "5bcb88c5-3aba-4cb7-c519-a75d46122556"
      },
      "execution_count": null,
      "outputs": [
        {
          "output_type": "execute_result",
          "data": {
            "text/plain": [
              "'test/test.csv'"
            ],
            "application/vnd.google.colaboratory.intrinsic+json": {
              "type": "string"
            }
          },
          "metadata": {},
          "execution_count": 64
        }
      ]
    },
    {
      "cell_type": "code",
      "source": [
        "shutil.move('train.csv', 'test.csv') #rename the file"
      ],
      "metadata": {
        "colab": {
          "base_uri": "https://localhost:8080/",
          "height": 35
        },
        "id": "tW6FMALTu272",
        "outputId": "7a12ca2d-5ba5-4b26-bff0-480289453dfe"
      },
      "execution_count": null,
      "outputs": [
        {
          "output_type": "execute_result",
          "data": {
            "text/plain": [
              "'test.csv'"
            ],
            "application/vnd.google.colaboratory.intrinsic+json": {
              "type": "string"
            }
          },
          "metadata": {},
          "execution_count": 65
        }
      ]
    },
    {
      "cell_type": "code",
      "source": [
        "!rm test.csv"
      ],
      "metadata": {
        "id": "XsAPdYLOvl9n"
      },
      "execution_count": null,
      "outputs": []
    },
    {
      "cell_type": "code",
      "source": [
        "import os\n",
        "\n",
        "os.replace('train/train.csv', 'train.csv')\n",
        "os.replace('test/test.csv', 'test.csv')"
      ],
      "metadata": {
        "id": "UZnr3lKLvojB"
      },
      "execution_count": null,
      "outputs": []
    },
    {
      "cell_type": "code",
      "source": [
        "ls"
      ],
      "metadata": {
        "colab": {
          "base_uri": "https://localhost:8080/"
        },
        "id": "ZzUuIQscvrPq",
        "outputId": "d1e80eb4-ac40-46f4-ec7c-0759455209b3"
      },
      "execution_count": null,
      "outputs": [
        {
          "output_type": "stream",
          "name": "stdout",
          "text": [
            "\u001b[0m\u001b[01;34msample_data\u001b[0m/  \u001b[01;34mtest\u001b[0m/  test.csv  \u001b[01;34mtrain\u001b[0m/  train.csv\n"
          ]
        }
      ]
    },
    {
      "cell_type": "code",
      "source": [
        ""
      ],
      "metadata": {
        "id": "_cDrH850GNpp"
      },
      "execution_count": null,
      "outputs": []
    }
  ]
}